{
 "cells": [
  {
   "attachments": {},
   "cell_type": "markdown",
   "metadata": {},
   "source": [
    "## Dataset Source\n",
    "\n",
    "Dataset is obtained from https://www.kaggle.com/datasets/csafrit2/predicting-divorce?resource=download"
   ]
  },
  {
   "attachments": {},
   "cell_type": "markdown",
   "metadata": {},
   "source": [
    "## Importing Essential Libraries\n",
    "\n",
    "Import libraries needed for data preparation, visualisation and modelling"
   ]
  },
  {
   "cell_type": "code",
   "execution_count": 5,
   "metadata": {},
   "outputs": [],
   "source": [
    "import sys\n",
    "import numpy as np\n",
    "import pandas as pd\n",
    "import matplotlib as mpl\n",
    "import matplotlib.pyplot as plt\n",
    "import matplotlib.pylab as pylab\n",
    "import matplotlib.ticker as ticker\n",
    "from matplotlib.ticker import AutoMinorLocator\n",
    "import seaborn as sns\n",
    "import scipy.stats as stats\n",
    "\n",
    "def suppress_warnings():\n",
    "    import warnings\n",
    "    warnings.filterwarnings('ignore')\n",
    "    if not sys.warnoptions:\n",
    "        warnings.simplefilter(\"ignore\")\n",
    "    warnings.filterwarnings('ignore', category=DeprecationWarning)\n",
    "    warnings.filterwarnings('ignore', category=FutureWarning)\n",
    "suppress_warnings()"
   ]
  },
  {
   "attachments": {},
   "cell_type": "markdown",
   "metadata": {},
   "source": [
    "Import libraries needed for Machine Learning"
   ]
  },
  {
   "cell_type": "code",
   "execution_count": 7,
   "metadata": {},
   "outputs": [],
   "source": [
    "from sklearn import tree, linear_model, neighbors, naive_bayes, ensemble, model_selection, gaussian_process, datasets, preprocessing, discriminant_analysis\n",
    "from sklearn import svm  #support vector Machine\n",
    "from sklearn.tree import DecisionTreeClassifier  #Decision Tree\n",
    "from sklearn.linear_model import LogisticRegression  #logistic regression\n",
    "from sklearn.neighbors import KNeighborsClassifier  #KNN\n",
    "from sklearn.naive_bayes import GaussianNB  #Naive bayes\n",
    "import xgboost as xgb\n",
    "from xgboost import XGBClassifier #XGBoost\n",
    "from sklearn.ensemble import GradientBoostingClassifier  #GBM algorithm\n",
    "from sklearn.ensemble import RandomForestClassifier, VotingClassifier  #Random Forest, Ensemble VotingClassifier\n",
    "from sklearn.model_selection import train_test_split  #training and testing data split\n",
    "from sklearn.model_selection import KFold  #for K-fold cross validation\n",
    "from sklearn.model_selection import GridSearchCV, cross_val_score, StratifiedKFold, learning_curve\n",
    "from sklearn import metrics  #accuracy measure\n",
    "from sklearn.metrics import confusion_matrix  #for confusion matrix\n",
    "from sklearn.metrics import roc_curve, auc #for roc curve\n",
    "from scipy.stats import skew\n",
    "from scipy.stats.stats import pearsonr\n",
    "suppress_warnings()"
   ]
  },
  {
   "attachments": {},
   "cell_type": "markdown",
   "metadata": {},
   "source": [
    "## Data Summarization\n",
    "\n",
    "\n",
    "### Statistical Summaries & Visualizations"
   ]
  },
  {
   "cell_type": "code",
   "execution_count": null,
   "metadata": {},
   "outputs": [],
   "source": [
    "df = pd.read_csv(\"divorce.csv\")\n"
   ]
  }
 ],
 "metadata": {
  "kernelspec": {
   "display_name": "Python 3",
   "language": "python",
   "name": "python3"
  },
  "language_info": {
   "codemirror_mode": {
    "name": "ipython",
    "version": 3
   },
   "file_extension": ".py",
   "mimetype": "text/x-python",
   "name": "python",
   "nbconvert_exporter": "python",
   "pygments_lexer": "ipython3",
   "version": "3.10.6"
  },
  "orig_nbformat": 4
 },
 "nbformat": 4,
 "nbformat_minor": 2
}
